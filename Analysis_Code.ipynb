{
 "cells": [
  {
   "cell_type": "markdown",
   "id": "c9c41778",
   "metadata": {},
   "source": [
    "# Loading Libraries"
   ]
  },
  {
   "cell_type": "code",
   "execution_count": 121,
   "id": "180dc47c",
   "metadata": {},
   "outputs": [],
   "source": [
    "import json\n",
    "import pandas as pd\n",
    "import numpy as np\n",
    "from datetime import datetime\n",
    "from pandasql import sqldf "
   ]
  },
  {
   "cell_type": "markdown",
   "id": "968cac1e",
   "metadata": {},
   "source": [
    "# Reading Data"
   ]
  },
  {
   "cell_type": "code",
   "execution_count": 122,
   "id": "6b88c537",
   "metadata": {},
   "outputs": [],
   "source": [
    "user = pd.read_json('users.json', lines=True)\n",
    "receipt = pd.read_json('receipts.json', lines=True)\n",
    "brand = pd.read_json('brands.json', lines=True)"
   ]
  },
  {
   "cell_type": "markdown",
   "id": "3fc42580",
   "metadata": {},
   "source": [
    "# Flatten Date and Non-Date columns"
   ]
  },
  {
   "cell_type": "code",
   "execution_count": 123,
   "id": "686ef9cf",
   "metadata": {},
   "outputs": [],
   "source": [
    "# Function Definitions to flatten date and non date columns\n",
    "def flatten_1 (df,col):\n",
    "    df[col] = pd.json_normalize(df[col])\n",
    "    return df\n",
    "\n",
    "def flatten_2(df, col):\n",
    "  flatten_data=[]\n",
    "  for x in df[col].values:\n",
    "    if type(x) == float:\n",
    "      flatten_data.append(np.nan)\n",
    "    else:\n",
    "      flatten_data.append(pd.to_datetime(datetime.fromtimestamp(x['$date'] // 1e3)))\n",
    "  df[col] = flatten_data\n",
    "  return df\n",
    "\n",
    "# Flattening date and non date columns of user table\n",
    "user_nondate_columns = ['_id']\n",
    "user_date_columns = ['createdDate','lastLogin']\n",
    "for j in user_nondate_columns:\n",
    "    user = flatten_1(user,j)\n",
    "for k in user_date_columns:\n",
    "  user = flatten_2(user, k)\n",
    "\n",
    "# Flattening date and non date columns of receipt table\n",
    "receipt_nondate_columns = ['_id']\n",
    "receipt_date_columns = ['createDate', 'dateScanned', 'finishedDate', 'modifyDate', 'pointsAwardedDate', 'purchaseDate']\n",
    "for j in receipt_nondate_columns:\n",
    "    receipt = flatten_1(receipt,j)\n",
    "for k in receipt_date_columns:\n",
    "  receipt = flatten_2(receipt, k)\n",
    "\n",
    "# Flattening date and non date columns of brand table\n",
    "brand_nondate_columns = ['_id']\n",
    "for j in brand_nondate_columns:\n",
    "    brand = flatten_1(brand,j)  "
   ]
  },
  {
   "cell_type": "markdown",
   "id": "52a46b84",
   "metadata": {},
   "source": [
    "# Flatten Special Columns"
   ]
  },
  {
   "cell_type": "code",
   "execution_count": 124,
   "id": "a6de7f93",
   "metadata": {},
   "outputs": [],
   "source": [
    "#1) User table is all good.\n",
    "\n",
    "\n",
    "#2) Flattening special columns in receipt data frame\n",
    "item = pd.DataFrame()\n",
    "item['_id'] = ''\n",
    "for i in range(len(receipt['rewardsReceiptItemList'])):\n",
    "  x = receipt['rewardsReceiptItemList'].iloc[i]\n",
    "  if type(x) != float:\n",
    "    for y in x:\n",
    "      item = pd.concat([item, pd.DataFrame.from_dict(y, orient='index').transpose()])\n",
    "      item['_id'] = item['_id'].fillna(receipt.iloc[i]['_id'])     \n",
    "receipt = receipt.drop(\"rewardsReceiptItemList\" ,axis= 1)\n",
    "\n",
    "\n",
    "#3) Flattening special columns in brand data frame\n",
    "cpg = pd.DataFrame()\n",
    "key=[]\n",
    "oid=[]\n",
    "ref=[]\n",
    "for i in range(len(brand['cpg'])):\n",
    "    x = brand['cpg'].iloc[i]\n",
    "    key.append(brand.iloc[i]['_id'])\n",
    "    ref.append(brand['cpg'][i]['$ref'])\n",
    "    oid.append(brand['cpg'][i]['$id']['$oid'])\n",
    "   \n",
    "    \n",
    "cpg['id'] = key\n",
    "cpg['ref'] = ref\n",
    "cpg['oid'] = oid\n",
    "\n",
    "brand = brand.merge(cpg, left_on='_id', right_on='id', how='inner')\n",
    "brand = brand.drop(['id','cpg','ref'], axis=1)"
   ]
  },
  {
   "cell_type": "markdown",
   "id": "58b955aa",
   "metadata": {},
   "source": [
    "# Data Sanity Checks"
   ]
  },
  {
   "cell_type": "markdown",
   "id": "29ad84fc",
   "metadata": {},
   "source": [
    "## 1) Initial Checks"
   ]
  },
  {
   "cell_type": "code",
   "execution_count": 130,
   "id": "ac51f975",
   "metadata": {},
   "outputs": [
    {
     "data": {
      "text/html": [
       "<div>\n",
       "<style scoped>\n",
       "    .dataframe tbody tr th:only-of-type {\n",
       "        vertical-align: middle;\n",
       "    }\n",
       "\n",
       "    .dataframe tbody tr th {\n",
       "        vertical-align: top;\n",
       "    }\n",
       "\n",
       "    .dataframe thead th {\n",
       "        text-align: right;\n",
       "    }\n",
       "</style>\n",
       "<table border=\"1\" class=\"dataframe\">\n",
       "  <thead>\n",
       "    <tr style=\"text-align: right;\">\n",
       "      <th></th>\n",
       "      <th>category</th>\n",
       "      <th>categoryCode</th>\n",
       "    </tr>\n",
       "  </thead>\n",
       "  <tbody>\n",
       "    <tr>\n",
       "      <th>0</th>\n",
       "      <td>Baking</td>\n",
       "      <td>BAKING</td>\n",
       "    </tr>\n",
       "    <tr>\n",
       "      <th>1</th>\n",
       "      <td>Beverages</td>\n",
       "      <td>BEVERAGES</td>\n",
       "    </tr>\n",
       "    <tr>\n",
       "      <th>2</th>\n",
       "      <td>Candy &amp; Sweets</td>\n",
       "      <td>CANDY_AND_SWEETS</td>\n",
       "    </tr>\n",
       "    <tr>\n",
       "      <th>3</th>\n",
       "      <td>Condiments &amp; Sauces</td>\n",
       "      <td>None</td>\n",
       "    </tr>\n",
       "    <tr>\n",
       "      <th>4</th>\n",
       "      <td>Canned Goods &amp; Soups</td>\n",
       "      <td>None</td>\n",
       "    </tr>\n",
       "    <tr>\n",
       "      <th>5</th>\n",
       "      <td>Baking</td>\n",
       "      <td>None</td>\n",
       "    </tr>\n",
       "    <tr>\n",
       "      <th>6</th>\n",
       "      <td>None</td>\n",
       "      <td>None</td>\n",
       "    </tr>\n",
       "    <tr>\n",
       "      <th>7</th>\n",
       "      <td>Magazines</td>\n",
       "      <td>None</td>\n",
       "    </tr>\n",
       "    <tr>\n",
       "      <th>8</th>\n",
       "      <td>Breakfast &amp; Cereal</td>\n",
       "      <td>None</td>\n",
       "    </tr>\n",
       "    <tr>\n",
       "      <th>9</th>\n",
       "      <td>Beer Wine Spirits</td>\n",
       "      <td>None</td>\n",
       "    </tr>\n",
       "    <tr>\n",
       "      <th>10</th>\n",
       "      <td>Health &amp; Wellness</td>\n",
       "      <td>HEALTHY_AND_WELLNESS</td>\n",
       "    </tr>\n",
       "    <tr>\n",
       "      <th>11</th>\n",
       "      <td>Beauty</td>\n",
       "      <td>None</td>\n",
       "    </tr>\n",
       "    <tr>\n",
       "      <th>12</th>\n",
       "      <td>Baby</td>\n",
       "      <td>None</td>\n",
       "    </tr>\n",
       "    <tr>\n",
       "      <th>13</th>\n",
       "      <td>Frozen</td>\n",
       "      <td>None</td>\n",
       "    </tr>\n",
       "    <tr>\n",
       "      <th>14</th>\n",
       "      <td>Grocery</td>\n",
       "      <td>None</td>\n",
       "    </tr>\n",
       "    <tr>\n",
       "      <th>15</th>\n",
       "      <td>Snacks</td>\n",
       "      <td>None</td>\n",
       "    </tr>\n",
       "    <tr>\n",
       "      <th>16</th>\n",
       "      <td>Household</td>\n",
       "      <td>None</td>\n",
       "    </tr>\n",
       "    <tr>\n",
       "      <th>17</th>\n",
       "      <td>Beverages</td>\n",
       "      <td>None</td>\n",
       "    </tr>\n",
       "    <tr>\n",
       "      <th>18</th>\n",
       "      <td>Personal Care</td>\n",
       "      <td>None</td>\n",
       "    </tr>\n",
       "    <tr>\n",
       "      <th>19</th>\n",
       "      <td>Health &amp; Wellness</td>\n",
       "      <td>None</td>\n",
       "    </tr>\n",
       "    <tr>\n",
       "      <th>20</th>\n",
       "      <td>Grocery</td>\n",
       "      <td>GROCERY</td>\n",
       "    </tr>\n",
       "    <tr>\n",
       "      <th>21</th>\n",
       "      <td>Dairy</td>\n",
       "      <td>None</td>\n",
       "    </tr>\n",
       "    <tr>\n",
       "      <th>22</th>\n",
       "      <td>Personal Care</td>\n",
       "      <td>PERSONAL_CARE</td>\n",
       "    </tr>\n",
       "    <tr>\n",
       "      <th>23</th>\n",
       "      <td>Cleaning &amp; Home Improvement</td>\n",
       "      <td>CLEANING_AND_HOME_IMPROVEMENT</td>\n",
       "    </tr>\n",
       "    <tr>\n",
       "      <th>24</th>\n",
       "      <td>Deli</td>\n",
       "      <td>None</td>\n",
       "    </tr>\n",
       "    <tr>\n",
       "      <th>25</th>\n",
       "      <td>Beer Wine Spirits</td>\n",
       "      <td>BEER_WINE_SPIRITS</td>\n",
       "    </tr>\n",
       "    <tr>\n",
       "      <th>26</th>\n",
       "      <td>Beauty &amp; Personal Care</td>\n",
       "      <td>None</td>\n",
       "    </tr>\n",
       "    <tr>\n",
       "      <th>27</th>\n",
       "      <td>Baby</td>\n",
       "      <td>BABY</td>\n",
       "    </tr>\n",
       "    <tr>\n",
       "      <th>28</th>\n",
       "      <td>Bread &amp; Bakery</td>\n",
       "      <td>BREAD_AND_BAKERY</td>\n",
       "    </tr>\n",
       "    <tr>\n",
       "      <th>29</th>\n",
       "      <td>Outdoor</td>\n",
       "      <td>OUTDOOR</td>\n",
       "    </tr>\n",
       "    <tr>\n",
       "      <th>30</th>\n",
       "      <td>Dairy &amp; Refrigerated</td>\n",
       "      <td>DAIRY_AND_REFRIGERATED</td>\n",
       "    </tr>\n",
       "    <tr>\n",
       "      <th>31</th>\n",
       "      <td>Magazines</td>\n",
       "      <td>MAGAZINES</td>\n",
       "    </tr>\n",
       "    <tr>\n",
       "      <th>32</th>\n",
       "      <td>Frozen</td>\n",
       "      <td>FROZEN</td>\n",
       "    </tr>\n",
       "  </tbody>\n",
       "</table>\n",
       "</div>"
      ],
      "text/plain": [
       "                       category                   categoryCode\n",
       "0                        Baking                         BAKING\n",
       "1                     Beverages                      BEVERAGES\n",
       "2                Candy & Sweets               CANDY_AND_SWEETS\n",
       "3           Condiments & Sauces                           None\n",
       "4          Canned Goods & Soups                           None\n",
       "5                        Baking                           None\n",
       "6                          None                           None\n",
       "7                     Magazines                           None\n",
       "8            Breakfast & Cereal                           None\n",
       "9             Beer Wine Spirits                           None\n",
       "10            Health & Wellness           HEALTHY_AND_WELLNESS\n",
       "11                       Beauty                           None\n",
       "12                         Baby                           None\n",
       "13                       Frozen                           None\n",
       "14                      Grocery                           None\n",
       "15                       Snacks                           None\n",
       "16                    Household                           None\n",
       "17                    Beverages                           None\n",
       "18                Personal Care                           None\n",
       "19            Health & Wellness                           None\n",
       "20                      Grocery                        GROCERY\n",
       "21                        Dairy                           None\n",
       "22                Personal Care                  PERSONAL_CARE\n",
       "23  Cleaning & Home Improvement  CLEANING_AND_HOME_IMPROVEMENT\n",
       "24                         Deli                           None\n",
       "25            Beer Wine Spirits              BEER_WINE_SPIRITS\n",
       "26       Beauty & Personal Care                           None\n",
       "27                         Baby                           BABY\n",
       "28               Bread & Bakery               BREAD_AND_BAKERY\n",
       "29                      Outdoor                        OUTDOOR\n",
       "30         Dairy & Refrigerated         DAIRY_AND_REFRIGERATED\n",
       "31                    Magazines                      MAGAZINES\n",
       "32                       Frozen                         FROZEN"
      ]
     },
     "execution_count": 130,
     "metadata": {},
     "output_type": "execute_result"
    }
   ],
   "source": [
    "# Check 1\n",
    "instance = lambda q: sqldf(q, globals())\n",
    "brand1 = '''select distinct category,categoryCode from brand'''\n",
    "instance(brand1)"
   ]
  },
  {
   "cell_type": "code",
   "execution_count": 131,
   "id": "3327c57a",
   "metadata": {},
   "outputs": [
    {
     "data": {
      "text/html": [
       "<div>\n",
       "<style scoped>\n",
       "    .dataframe tbody tr th:only-of-type {\n",
       "        vertical-align: middle;\n",
       "    }\n",
       "\n",
       "    .dataframe tbody tr th {\n",
       "        vertical-align: top;\n",
       "    }\n",
       "\n",
       "    .dataframe thead th {\n",
       "        text-align: right;\n",
       "    }\n",
       "</style>\n",
       "<table border=\"1\" class=\"dataframe\">\n",
       "  <thead>\n",
       "    <tr style=\"text-align: right;\">\n",
       "      <th></th>\n",
       "      <th>_id</th>\n",
       "      <th>barcode</th>\n",
       "      <th>category</th>\n",
       "      <th>name</th>\n",
       "      <th>topBrand</th>\n",
       "      <th>brandCode</th>\n",
       "      <th>oid</th>\n",
       "    </tr>\n",
       "  </thead>\n",
       "  <tbody>\n",
       "    <tr>\n",
       "      <th>0</th>\n",
       "      <td>601ac115be37ce2ead437551</td>\n",
       "      <td>511111019862</td>\n",
       "      <td>Baking</td>\n",
       "      <td>test brand @1612366101024</td>\n",
       "      <td>0.0</td>\n",
       "      <td>NaN</td>\n",
       "      <td>601ac114be37ce2ead437550</td>\n",
       "    </tr>\n",
       "    <tr>\n",
       "      <th>1</th>\n",
       "      <td>601c5460be37ce2ead43755f</td>\n",
       "      <td>511111519928</td>\n",
       "      <td>Beverages</td>\n",
       "      <td>Starbucks</td>\n",
       "      <td>0.0</td>\n",
       "      <td>STARBUCKS</td>\n",
       "      <td>5332f5fbe4b03c9a25efd0ba</td>\n",
       "    </tr>\n",
       "    <tr>\n",
       "      <th>2</th>\n",
       "      <td>601ac142be37ce2ead43755d</td>\n",
       "      <td>511111819905</td>\n",
       "      <td>Baking</td>\n",
       "      <td>test brand @1612366146176</td>\n",
       "      <td>0.0</td>\n",
       "      <td>TEST BRANDCODE @1612366146176</td>\n",
       "      <td>601ac142be37ce2ead437559</td>\n",
       "    </tr>\n",
       "    <tr>\n",
       "      <th>3</th>\n",
       "      <td>601ac142be37ce2ead43755a</td>\n",
       "      <td>511111519874</td>\n",
       "      <td>Baking</td>\n",
       "      <td>test brand @1612366146051</td>\n",
       "      <td>0.0</td>\n",
       "      <td>TEST BRANDCODE @1612366146051</td>\n",
       "      <td>601ac142be37ce2ead437559</td>\n",
       "    </tr>\n",
       "    <tr>\n",
       "      <th>4</th>\n",
       "      <td>601ac142be37ce2ead43755e</td>\n",
       "      <td>511111319917</td>\n",
       "      <td>Candy &amp; Sweets</td>\n",
       "      <td>test brand @1612366146827</td>\n",
       "      <td>0.0</td>\n",
       "      <td>TEST BRANDCODE @1612366146827</td>\n",
       "      <td>5332fa12e4b03c9a25efd1e7</td>\n",
       "    </tr>\n",
       "  </tbody>\n",
       "</table>\n",
       "</div>"
      ],
      "text/plain": [
       "                        _id       barcode        category  \\\n",
       "0  601ac115be37ce2ead437551  511111019862          Baking   \n",
       "1  601c5460be37ce2ead43755f  511111519928       Beverages   \n",
       "2  601ac142be37ce2ead43755d  511111819905          Baking   \n",
       "3  601ac142be37ce2ead43755a  511111519874          Baking   \n",
       "4  601ac142be37ce2ead43755e  511111319917  Candy & Sweets   \n",
       "\n",
       "                        name  topBrand                      brandCode  \\\n",
       "0  test brand @1612366101024       0.0                            NaN   \n",
       "1                  Starbucks       0.0                      STARBUCKS   \n",
       "2  test brand @1612366146176       0.0  TEST BRANDCODE @1612366146176   \n",
       "3  test brand @1612366146051       0.0  TEST BRANDCODE @1612366146051   \n",
       "4  test brand @1612366146827       0.0  TEST BRANDCODE @1612366146827   \n",
       "\n",
       "                        oid  \n",
       "0  601ac114be37ce2ead437550  \n",
       "1  5332f5fbe4b03c9a25efd0ba  \n",
       "2  601ac142be37ce2ead437559  \n",
       "3  601ac142be37ce2ead437559  \n",
       "4  5332fa12e4b03c9a25efd1e7  "
      ]
     },
     "execution_count": 131,
     "metadata": {},
     "output_type": "execute_result"
    }
   ],
   "source": [
    "#The categoryCode has same information or less information compared to the category column. Hence it is useless.\n",
    "brand = brand.drop('categoryCode', axis=1)\n",
    "brand.head()"
   ]
  },
  {
   "cell_type": "code",
   "execution_count": 132,
   "id": "c8b3cab6",
   "metadata": {},
   "outputs": [
    {
     "data": {
      "text/html": [
       "<div>\n",
       "<style scoped>\n",
       "    .dataframe tbody tr th:only-of-type {\n",
       "        vertical-align: middle;\n",
       "    }\n",
       "\n",
       "    .dataframe tbody tr th {\n",
       "        vertical-align: top;\n",
       "    }\n",
       "\n",
       "    .dataframe thead th {\n",
       "        text-align: right;\n",
       "    }\n",
       "</style>\n",
       "<table border=\"1\" class=\"dataframe\">\n",
       "  <thead>\n",
       "    <tr style=\"text-align: right;\">\n",
       "      <th></th>\n",
       "      <th>count(distinct barcode)</th>\n",
       "      <th>count(distinct _id)</th>\n",
       "      <th>count(*)</th>\n",
       "    </tr>\n",
       "  </thead>\n",
       "  <tbody>\n",
       "    <tr>\n",
       "      <th>0</th>\n",
       "      <td>1160</td>\n",
       "      <td>1167</td>\n",
       "      <td>1167</td>\n",
       "    </tr>\n",
       "  </tbody>\n",
       "</table>\n",
       "</div>"
      ],
      "text/plain": [
       "   count(distinct barcode)  count(distinct _id)  count(*)\n",
       "0                     1160                 1167      1167"
      ]
     },
     "execution_count": 132,
     "metadata": {},
     "output_type": "execute_result"
    }
   ],
   "source": [
    "# Check 2\n",
    "brand2 = '''select count(distinct barcode),count(distinct _id),count(*) from brand'''\n",
    "instance(brand2)"
   ]
  },
  {
   "cell_type": "code",
   "execution_count": 133,
   "id": "572026cb",
   "metadata": {},
   "outputs": [
    {
     "data": {
      "text/html": [
       "<div>\n",
       "<style scoped>\n",
       "    .dataframe tbody tr th:only-of-type {\n",
       "        vertical-align: middle;\n",
       "    }\n",
       "\n",
       "    .dataframe tbody tr th {\n",
       "        vertical-align: top;\n",
       "    }\n",
       "\n",
       "    .dataframe thead th {\n",
       "        text-align: right;\n",
       "    }\n",
       "</style>\n",
       "<table border=\"1\" class=\"dataframe\">\n",
       "  <thead>\n",
       "    <tr style=\"text-align: right;\">\n",
       "      <th></th>\n",
       "      <th>count(distinct barcode)</th>\n",
       "    </tr>\n",
       "  </thead>\n",
       "  <tbody>\n",
       "    <tr>\n",
       "      <th>0</th>\n",
       "      <td>16</td>\n",
       "    </tr>\n",
       "  </tbody>\n",
       "</table>\n",
       "</div>"
      ],
      "text/plain": [
       "   count(distinct barcode)\n",
       "0                       16"
      ]
     },
     "execution_count": 133,
     "metadata": {},
     "output_type": "execute_result"
    }
   ],
   "source": [
    "# Check 3\n",
    "brand3 = '''select count(distinct barcode) from brand where barcode in (select distinct barcode from item)\n",
    "'''\n",
    "instance(brand3)"
   ]
  },
  {
   "cell_type": "code",
   "execution_count": 134,
   "id": "4c727884",
   "metadata": {},
   "outputs": [
    {
     "data": {
      "text/html": [
       "<div>\n",
       "<style scoped>\n",
       "    .dataframe tbody tr th:only-of-type {\n",
       "        vertical-align: middle;\n",
       "    }\n",
       "\n",
       "    .dataframe tbody tr th {\n",
       "        vertical-align: top;\n",
       "    }\n",
       "\n",
       "    .dataframe thead th {\n",
       "        text-align: right;\n",
       "    }\n",
       "</style>\n",
       "<table border=\"1\" class=\"dataframe\">\n",
       "  <thead>\n",
       "    <tr style=\"text-align: right;\">\n",
       "      <th></th>\n",
       "      <th>count(*)</th>\n",
       "    </tr>\n",
       "  </thead>\n",
       "  <tbody>\n",
       "    <tr>\n",
       "      <th>0</th>\n",
       "      <td>3851</td>\n",
       "    </tr>\n",
       "  </tbody>\n",
       "</table>\n",
       "</div>"
      ],
      "text/plain": [
       "   count(*)\n",
       "0      3851"
      ]
     },
     "execution_count": 134,
     "metadata": {},
     "output_type": "execute_result"
    }
   ],
   "source": [
    "# Check 4\n",
    "item1 = '''select count(*) from item where barcode is null '''\n",
    "instance(item1)"
   ]
  },
  {
   "cell_type": "code",
   "execution_count": 135,
   "id": "93a0b40f",
   "metadata": {},
   "outputs": [
    {
     "data": {
      "text/html": [
       "<div>\n",
       "<style scoped>\n",
       "    .dataframe tbody tr th:only-of-type {\n",
       "        vertical-align: middle;\n",
       "    }\n",
       "\n",
       "    .dataframe tbody tr th {\n",
       "        vertical-align: top;\n",
       "    }\n",
       "\n",
       "    .dataframe thead th {\n",
       "        text-align: right;\n",
       "    }\n",
       "</style>\n",
       "<table border=\"1\" class=\"dataframe\">\n",
       "  <thead>\n",
       "    <tr style=\"text-align: right;\">\n",
       "      <th></th>\n",
       "      <th>a</th>\n",
       "      <th>b</th>\n",
       "      <th>c</th>\n",
       "    </tr>\n",
       "  </thead>\n",
       "  <tbody>\n",
       "    <tr>\n",
       "      <th>0</th>\n",
       "      <td>6941</td>\n",
       "      <td>2060</td>\n",
       "      <td>6941</td>\n",
       "    </tr>\n",
       "  </tbody>\n",
       "</table>\n",
       "</div>"
      ],
      "text/plain": [
       "      a     b     c\n",
       "0  6941  2060  6941"
      ]
     },
     "execution_count": 135,
     "metadata": {},
     "output_type": "execute_result"
    }
   ],
   "source": [
    "# Check 5\n",
    "item2 = ''' select\n",
    "            (select count(*) from item) as a, \n",
    "            (select count(*) from (select Distinct _id,barcode from item)) as b,\n",
    "            (select count(*) from (select Distinct _id,barcode,partnerItemId from item)) as c\n",
    "'''\n",
    "instance(item2)"
   ]
  },
  {
   "cell_type": "code",
   "execution_count": 136,
   "id": "ae9e8a33",
   "metadata": {},
   "outputs": [
    {
     "data": {
      "text/html": [
       "<div>\n",
       "<style scoped>\n",
       "    .dataframe tbody tr th:only-of-type {\n",
       "        vertical-align: middle;\n",
       "    }\n",
       "\n",
       "    .dataframe tbody tr th {\n",
       "        vertical-align: top;\n",
       "    }\n",
       "\n",
       "    .dataframe thead th {\n",
       "        text-align: right;\n",
       "    }\n",
       "</style>\n",
       "<table border=\"1\" class=\"dataframe\">\n",
       "  <thead>\n",
       "    <tr style=\"text-align: right;\">\n",
       "      <th></th>\n",
       "      <th>count(distinct userId)</th>\n",
       "    </tr>\n",
       "  </thead>\n",
       "  <tbody>\n",
       "    <tr>\n",
       "      <th>0</th>\n",
       "      <td>117</td>\n",
       "    </tr>\n",
       "  </tbody>\n",
       "</table>\n",
       "</div>"
      ],
      "text/plain": [
       "   count(distinct userId)\n",
       "0                     117"
      ]
     },
     "execution_count": 136,
     "metadata": {},
     "output_type": "execute_result"
    }
   ],
   "source": [
    "# Check 6\n",
    "receipt1 = '''select count(distinct userId) from receipt where userId not in (select distinct _id from user)\n",
    "'''\n",
    "instance(receipt1)"
   ]
  },
  {
   "cell_type": "code",
   "execution_count": 137,
   "id": "2ab21998",
   "metadata": {},
   "outputs": [
    {
     "data": {
      "text/html": [
       "<div>\n",
       "<style scoped>\n",
       "    .dataframe tbody tr th:only-of-type {\n",
       "        vertical-align: middle;\n",
       "    }\n",
       "\n",
       "    .dataframe tbody tr th {\n",
       "        vertical-align: top;\n",
       "    }\n",
       "\n",
       "    .dataframe thead th {\n",
       "        text-align: right;\n",
       "    }\n",
       "</style>\n",
       "<table border=\"1\" class=\"dataframe\">\n",
       "  <thead>\n",
       "    <tr style=\"text-align: right;\">\n",
       "      <th></th>\n",
       "      <th>count(*)</th>\n",
       "      <th>count(distinct _id)</th>\n",
       "    </tr>\n",
       "  </thead>\n",
       "  <tbody>\n",
       "    <tr>\n",
       "      <th>0</th>\n",
       "      <td>1119</td>\n",
       "      <td>1119</td>\n",
       "    </tr>\n",
       "  </tbody>\n",
       "</table>\n",
       "</div>"
      ],
      "text/plain": [
       "   count(*)  count(distinct _id)\n",
       "0      1119                 1119"
      ]
     },
     "execution_count": 137,
     "metadata": {},
     "output_type": "execute_result"
    }
   ],
   "source": [
    "#Check 7\n",
    "receipt2 = '''select count(*),count(distinct _id) from receipt '''\n",
    "instance(receipt2)"
   ]
  },
  {
   "cell_type": "code",
   "execution_count": 138,
   "id": "56037f98",
   "metadata": {},
   "outputs": [
    {
     "data": {
      "text/html": [
       "<div>\n",
       "<style scoped>\n",
       "    .dataframe tbody tr th:only-of-type {\n",
       "        vertical-align: middle;\n",
       "    }\n",
       "\n",
       "    .dataframe tbody tr th {\n",
       "        vertical-align: top;\n",
       "    }\n",
       "\n",
       "    .dataframe thead th {\n",
       "        text-align: right;\n",
       "    }\n",
       "</style>\n",
       "<table border=\"1\" class=\"dataframe\">\n",
       "  <thead>\n",
       "    <tr style=\"text-align: right;\">\n",
       "      <th></th>\n",
       "      <th>count(_id)</th>\n",
       "      <th>count(distinct _id)</th>\n",
       "    </tr>\n",
       "  </thead>\n",
       "  <tbody>\n",
       "    <tr>\n",
       "      <th>0</th>\n",
       "      <td>495</td>\n",
       "      <td>212</td>\n",
       "    </tr>\n",
       "  </tbody>\n",
       "</table>\n",
       "</div>"
      ],
      "text/plain": [
       "   count(_id)  count(distinct _id)\n",
       "0         495                  212"
      ]
     },
     "execution_count": 138,
     "metadata": {},
     "output_type": "execute_result"
    }
   ],
   "source": [
    "#Check 8\n",
    "user1 = '''select count(_id),count(distinct _id) from user'''\n",
    "instance(user1)"
   ]
  },
  {
   "cell_type": "code",
   "execution_count": 139,
   "id": "519fb1c0",
   "metadata": {},
   "outputs": [
    {
     "data": {
      "text/html": [
       "<div>\n",
       "<style scoped>\n",
       "    .dataframe tbody tr th:only-of-type {\n",
       "        vertical-align: middle;\n",
       "    }\n",
       "\n",
       "    .dataframe tbody tr th {\n",
       "        vertical-align: top;\n",
       "    }\n",
       "\n",
       "    .dataframe thead th {\n",
       "        text-align: right;\n",
       "    }\n",
       "</style>\n",
       "<table border=\"1\" class=\"dataframe\">\n",
       "  <thead>\n",
       "    <tr style=\"text-align: right;\">\n",
       "      <th></th>\n",
       "      <th>count(distinct _id)</th>\n",
       "    </tr>\n",
       "  </thead>\n",
       "  <tbody>\n",
       "    <tr>\n",
       "      <th>0</th>\n",
       "      <td>71</td>\n",
       "    </tr>\n",
       "  </tbody>\n",
       "</table>\n",
       "</div>"
      ],
      "text/plain": [
       "   count(distinct _id)\n",
       "0                   71"
      ]
     },
     "execution_count": 139,
     "metadata": {},
     "output_type": "execute_result"
    }
   ],
   "source": [
    "#Check 9\n",
    "user2 = '''select count(distinct _id) from user where _id not in\n",
    "(select distinct userId from receipt)\n",
    "'''\n",
    "instance(user2)"
   ]
  },
  {
   "cell_type": "code",
   "execution_count": 140,
   "id": "6ebbd942",
   "metadata": {},
   "outputs": [
    {
     "data": {
      "text/html": [
       "<div>\n",
       "<style scoped>\n",
       "    .dataframe tbody tr th:only-of-type {\n",
       "        vertical-align: middle;\n",
       "    }\n",
       "\n",
       "    .dataframe tbody tr th {\n",
       "        vertical-align: top;\n",
       "    }\n",
       "\n",
       "    .dataframe thead th {\n",
       "        text-align: right;\n",
       "    }\n",
       "</style>\n",
       "<table border=\"1\" class=\"dataframe\">\n",
       "  <thead>\n",
       "    <tr style=\"text-align: right;\">\n",
       "      <th></th>\n",
       "      <th>a</th>\n",
       "      <th>b</th>\n",
       "    </tr>\n",
       "  </thead>\n",
       "  <tbody>\n",
       "    <tr>\n",
       "      <th>0</th>\n",
       "      <td>196</td>\n",
       "      <td>13</td>\n",
       "    </tr>\n",
       "  </tbody>\n",
       "</table>\n",
       "</div>"
      ],
      "text/plain": [
       "     a   b\n",
       "0  196  13"
      ]
     },
     "execution_count": 140,
     "metadata": {},
     "output_type": "execute_result"
    }
   ],
   "source": [
    "#Check 10\n",
    "brand4 = '''select \n",
    "(select count(distinct oid) from brand) as a,\n",
    "(select count(distinct oid) from brand  where oid in (select distinct rewardsproductpartnerid from item)) as b\n",
    "'''\n",
    "instance(brand4)\n"
   ]
  },
  {
   "cell_type": "markdown",
   "id": "e669ad42",
   "metadata": {},
   "source": [
    "# Based on these above initial checks, we can make few assumptions on the data to build the data model. However, few of the assumptions are violated in the given data. The reason behind the violations are to be understood. The questions are listed separately in the stakeholder communication email.\n",
    "\n",
    "## Assumptions:\n",
    "##### 1) Item is the fact table, while the receipt,brand,user are dimension table.\n",
    "##### 2) Considering storage being not an issue and performance of the queries being the major constraint, we can build the data model in star schema instead of building it in snowflake schema.\n",
    "##### 3) In the user table, the primary key is assumed to be user_id. But it has few duplicates in the given data which needs to be checked.\n",
    "##### 4) A user can just create an account, but would not have scanned any receipt. This is a possible scenario.\n",
    "##### 5) One user can scan multiple receipts. This is a possible scenario.\n",
    "##### 6) Only the users in the users table will be scanning the receipts. Only they can have records in the receipt table. People cannot exist in the receipt table without even having their entry in the user dimension table.\n",
    "##### 7) In the item table, a record is uniquely identified by _id,barcode,partnerItemId. This is because a receipts can have multiple items bought along with it. And at the same time, a receipt can have a single item scanned more than once.\n",
    "##### 8) Every receipt_id in the receipt table will have atleast one record in the item table.\n",
    "##### 9) A record in the brand table can be uniquely identified by _id column in the brands table. To link the item table with brand table, I can link using either brand code or bar code. But the brand code data is missing for a lot of records in the item table. Therefore, the foreign key is bar code which seems like a better way of linking the two tables.\n",
    "\n",
    "## Keeping these assumptions in mind, the relationship is as follows.\n",
    "##### 1.  user to receipt -> 1 : 1(or)m \n",
    "##### 2. receipt to item -> 1 : 1(or)m\n",
    "##### 3. item to brand -> 0(or)m : 1"
   ]
  },
  {
   "cell_type": "code",
   "execution_count": 141,
   "id": "87cb276e",
   "metadata": {},
   "outputs": [],
   "source": [
    "## Therefore, exporting the data based on the above assumptions to build the data model in MySQL Workbench.\n",
    "\n",
    "\n",
    "#user.to_csv('user.csv', index=False)\n",
    "#receipt.to_csv('receipt.csv', index=False)\n",
    "#item.to_csv('item.csv', index=False)\n",
    "#brand.to_csv('brand.csv', index=False)"
   ]
  },
  {
   "cell_type": "markdown",
   "id": "8791d7a1",
   "metadata": {},
   "source": [
    "## 2) Other Quality Checks"
   ]
  },
  {
   "cell_type": "code",
   "execution_count": 113,
   "id": "c742fcde",
   "metadata": {},
   "outputs": [
    {
     "data": {
      "image/png": "[encoded data removed]",
      "text/plain": [
       "<Figure size 2160x720 with 4 Axes>"
      ]
     },
     "metadata": {
      "needs_background": "light"
     },
     "output_type": "display_data"
    }
   ],
   "source": [
    "import matplotlib.pyplot as plt\n",
    "\n",
    "plt.rcParams[\"figure.figsize\"] = [30,10]\n",
    "plt.rcParams[\"figure.autolayout\"] = True\n",
    "fig, axes = plt.subplots(1, 4)\n",
    "\n",
    "missing_percent_of_users = user.isnull().sum().sort_values(ascending= True)/len(user)*100\n",
    "missing_percent_of_users.plot(kind='bar',ax=axes[0])\n",
    "\n",
    "missing_percent_of_receipt = receipt.isnull().sum().sort_values(ascending= True)/len(receipt)*100\n",
    "missing_percent_of_receipt.plot(kind='bar',ax=axes[1])\n",
    "\n",
    "missing_percent_of_item = item.isnull().sum().sort_values(ascending= True)/len(item)*100\n",
    "missing_percent_of_item.plot(kind='bar',ax=axes[2])\n",
    "\n",
    "missing_percent_of_brand = brand.isnull().sum().sort_values(ascending= True)/len(brand)*100\n",
    "missing_percent_of_brand.plot(kind='bar',ax=axes[3])\n",
    "\n",
    "plt.show()"
   ]
  },
  {
   "cell_type": "code",
   "execution_count": 115,
   "id": "71f4fbb6",
   "metadata": {},
   "outputs": [
    {
     "data": {
      "image/png": "[encoded data removed]",
      "text/plain": [
       "<Figure size 2160x720 with 4 Axes>"
      ]
     },
     "metadata": {
      "needs_background": "light"
     },
     "output_type": "display_data"
    }
   ],
   "source": [
    "plt.rcParams[\"figure.figsize\"] = [30, 10]\n",
    "plt.rcParams[\"figure.autolayout\"] = True\n",
    "\n",
    "fig, axes = plt.subplots(1, 4)\n",
    "\n",
    "receipt.hist('bonusPointsEarned', bins=100, ax=axes[0])\n",
    "receipt.hist('pointsEarned', bins=100, ax=axes[1])\n",
    "receipt.hist('purchasedItemCount', bins=100, ax=axes[2])\n",
    "receipt.hist('totalSpent', bins=100, ax=axes[3])\n",
    "\n",
    "plt.show()"
   ]
  },
  {
   "cell_type": "markdown",
   "id": "8ce7c0d9",
   "metadata": {},
   "source": [
    "# Based on the second level of quality check, the following insights are found.\n",
    "\n",
    "#####  1) All the four tables has nulls in most of the columns. The percentage of nulls is so high in item table. Why does few columns have null? Is there a business reason behind the existence of nulls? Can the nulls be removed?\n",
    "#####  2) The distribution of pointsEarned,purchasedItemCount,totalSpent is right skewed. There exists outliers. Are these outliers due to error or are they special cases?"
   ]
  },
  {
   "cell_type": "code",
   "execution_count": null,
   "id": "7cc69a7b",
   "metadata": {},
   "outputs": [],
   "source": []
  }
 ],
 "metadata": {
  "kernelspec": {
   "display_name": "Python 3 (ipykernel)",
   "language": "python",
   "name": "python3"
  },
  "language_info": {
   "codemirror_mode": {
    "name": "ipython",
    "version": 3
   },
   "file_extension": ".py",
   "mimetype": "text/x-python",
   "name": "python",
   "nbconvert_exporter": "python",
   "pygments_lexer": "ipython3",
   "version": "3.9.12"
  }
 },
 "nbformat": 4,
 "nbformat_minor": 5
}
